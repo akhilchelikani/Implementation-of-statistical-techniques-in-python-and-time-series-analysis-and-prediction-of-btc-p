{
 "cells": [
  {
   "cell_type": "code",
   "execution_count": 1,
   "metadata": {},
   "outputs": [],
   "source": [
    "import numpy as np\n",
    "import pandas as pd\n",
    "from sklearn.linear_model import LinearRegression\n",
    "from sklearn.model_selection import train_test_split\n"
   ]
  },
  {
   "cell_type": "markdown",
   "metadata": {},
   "source": [
    "question1"
   ]
  },
  {
   "cell_type": "code",
   "execution_count": 2,
   "metadata": {},
   "outputs": [],
   "source": [
    "list3=[]\n",
    "for size in [1000]:\n",
    "    np.random.seed(0)\n",
    "    x= np.random.normal(5,0.5,size).reshape(size,1)\n",
    "    b0= np.ones((1,size)).reshape(size,1) \n",
    "    b1= 0.5*np.ones((1,size)).reshape(size,1)\n",
    "    e=np.random.normal(0,0.7,size).reshape(size,1)\n",
    "    y= b0+(np.multiply(b1,x))+e\n",
    "    x_train,x_test,y_train,y_test = train_test_split(x,y,test_size=0.10,random_state=42)\n",
    "    lr= LinearRegression(fit_intercept=False)\n",
    "    lr.fit(x_train,y_train)\n",
    "    y_pred_1=lr.predict(x_test)\n",
    "    mspe_actual=((y_test- y_pred_1)**2).mean()\n",
    "    list3.append(float(mspe_actual))"
   ]
  },
  {
   "cell_type": "code",
   "execution_count": 3,
   "metadata": {},
   "outputs": [],
   "source": [
    "#k folds cross validation\n",
    "list2=[]\n",
    "np.random.seed(0)\n",
    "for k in [2,3,4,5,6,8,10]:\n",
    "    list1=[]\n",
    "    for item in range(1,k+1):\n",
    "        np.random.shuffle(x)\n",
    "        df_x=pd.DataFrame(x)\n",
    "        df_x.columns=['input']\n",
    "        df_y=pd.DataFrame(y)\n",
    "        df_y.columns=['output']\n",
    "        r=round(x.shape[0]/k)\n",
    "        if item==1:\n",
    "            n=0\n",
    "        else:\n",
    "            n=r\n",
    "        df_test_x=df_x.iloc[n:n+r,:]\n",
    "        df_test_y=df_y.iloc[n:n+r,:]\n",
    "        df_test_x.index.names=['key']\n",
    "        drop_list=list(df_test_x.index)\n",
    "        df_train_x=df_x.drop(drop_list,axis=0)\n",
    "        df_train_y=df_x.drop(drop_list,axis=0)\n",
    "        lr.fit((df_train_x),(df_train_y))\n",
    "        y_pred=lr.predict((df_test_x))\n",
    "        y_actual=np.array(df_test_y)\n",
    "        mspe= ((y_actual-y_pred)**2).mean()\n",
    "        list1.append(float(mspe))\n",
    "    mean= sum(list1)/len(list1)\n",
    "    list2.append(mean)"
   ]
  },
  {
   "cell_type": "code",
   "execution_count": 4,
   "metadata": {
    "scrolled": true
   },
   "outputs": [
    {
     "data": {
      "text/html": [
       "<div>\n",
       "<style scoped>\n",
       "    .dataframe tbody tr th:only-of-type {\n",
       "        vertical-align: middle;\n",
       "    }\n",
       "\n",
       "    .dataframe tbody tr th {\n",
       "        vertical-align: top;\n",
       "    }\n",
       "\n",
       "    .dataframe thead th {\n",
       "        text-align: right;\n",
       "    }\n",
       "</style>\n",
       "<table border=\"1\" class=\"dataframe\">\n",
       "  <thead>\n",
       "    <tr style=\"text-align: right;\">\n",
       "      <th></th>\n",
       "      <th>sample_size</th>\n",
       "      <th>mspe_actual</th>\n",
       "      <th>k</th>\n",
       "      <th>mspe_cross</th>\n",
       "      <th>diff</th>\n",
       "    </tr>\n",
       "  </thead>\n",
       "  <tbody>\n",
       "    <tr>\n",
       "      <th>0</th>\n",
       "      <td>1000</td>\n",
       "      <td>0.546261</td>\n",
       "      <td>2</td>\n",
       "      <td>2.926883</td>\n",
       "      <td>2.380622</td>\n",
       "    </tr>\n",
       "    <tr>\n",
       "      <th>1</th>\n",
       "      <td>1000</td>\n",
       "      <td>0.546261</td>\n",
       "      <td>3</td>\n",
       "      <td>2.868671</td>\n",
       "      <td>2.322411</td>\n",
       "    </tr>\n",
       "    <tr>\n",
       "      <th>2</th>\n",
       "      <td>1000</td>\n",
       "      <td>0.546261</td>\n",
       "      <td>4</td>\n",
       "      <td>2.967499</td>\n",
       "      <td>2.421239</td>\n",
       "    </tr>\n",
       "    <tr>\n",
       "      <th>3</th>\n",
       "      <td>1000</td>\n",
       "      <td>0.546261</td>\n",
       "      <td>5</td>\n",
       "      <td>2.981677</td>\n",
       "      <td>2.435416</td>\n",
       "    </tr>\n",
       "    <tr>\n",
       "      <th>4</th>\n",
       "      <td>1000</td>\n",
       "      <td>0.546261</td>\n",
       "      <td>6</td>\n",
       "      <td>2.926589</td>\n",
       "      <td>2.380328</td>\n",
       "    </tr>\n",
       "    <tr>\n",
       "      <th>5</th>\n",
       "      <td>1000</td>\n",
       "      <td>0.546261</td>\n",
       "      <td>8</td>\n",
       "      <td>2.675304</td>\n",
       "      <td>2.129043</td>\n",
       "    </tr>\n",
       "    <tr>\n",
       "      <th>6</th>\n",
       "      <td>1000</td>\n",
       "      <td>0.546261</td>\n",
       "      <td>10</td>\n",
       "      <td>2.420423</td>\n",
       "      <td>1.874162</td>\n",
       "    </tr>\n",
       "  </tbody>\n",
       "</table>\n",
       "</div>"
      ],
      "text/plain": [
       "   sample_size  mspe_actual   k  mspe_cross      diff\n",
       "0         1000     0.546261   2    2.926883  2.380622\n",
       "1         1000     0.546261   3    2.868671  2.322411\n",
       "2         1000     0.546261   4    2.967499  2.421239\n",
       "3         1000     0.546261   5    2.981677  2.435416\n",
       "4         1000     0.546261   6    2.926589  2.380328\n",
       "5         1000     0.546261   8    2.675304  2.129043\n",
       "6         1000     0.546261  10    2.420423  1.874162"
      ]
     },
     "execution_count": 4,
     "metadata": {},
     "output_type": "execute_result"
    }
   ],
   "source": [
    "d= {'sample_size':[1000,1000,1000,1000,1000,1000,1000],'mspe_actual':np.repeat(list3[0],7,axis=0).tolist(),'k':[2,3,4,5,6,8,10],'mspe_cross':list2}\n",
    "df=pd.DataFrame(d)\n",
    "df['diff']=df['mspe_cross']-df['mspe_actual']\n",
    "df"
   ]
  },
  {
   "cell_type": "markdown",
   "metadata": {},
   "source": [
    "question2"
   ]
  },
  {
   "cell_type": "code",
   "execution_count": 5,
   "metadata": {},
   "outputs": [],
   "source": [
    "import statsmodels.api as sm\n",
    "import statsmodels.formula.api as smf\n"
   ]
  },
  {
   "cell_type": "code",
   "execution_count": 9,
   "metadata": {},
   "outputs": [],
   "source": [
    "#pvalue by classicalt test\n",
    "x2= sm.add_constant(x)\n",
    "results = sm.OLS(y, x2).fit()\n",
    "p_val= results.pvalues[1]\n",
    "\n"
   ]
  },
  {
   "cell_type": "code",
   "execution_count": 10,
   "metadata": {},
   "outputs": [],
   "source": [
    "#pvalue by bootstrap for 1000 sims\n",
    "list_pvals=[]\n",
    "list_new=[]\n",
    "df1=pd.DataFrame(x)\n",
    "df1.columns=['input']\n",
    "for n in [10,20,30,50,100,200,300,500,600]:\n",
    "    for isim in range(1,1001):\n",
    "        #sampling out of the dataframe\n",
    "        df_sample=df1.sample(n,replace=True,axis=0,random_state=isim)\n",
    "        x1=np.array(df_sample)\n",
    "        b0= np.ones((1,n)).reshape(n,1) \n",
    "        b1= 0.5*np.ones((1,n)).reshape(n,1)\n",
    "        e=np.random.normal(0,0.7,n).reshape(n,1)\n",
    "        y1= b0+(np.multiply(b1,x1))+e\n",
    "        x1 = sm.add_constant(x1)\n",
    "        results = sm.OLS(y1, x1).fit()\n",
    "        list_pvals.append(results.pvalues[1])\n",
    "    mean=sum(list_pvals)/len(list_pvals)\n",
    "    list_new.append(mean)\n"
   ]
  },
  {
   "cell_type": "code",
   "execution_count": 11,
   "metadata": {},
   "outputs": [
    {
     "data": {
      "text/html": [
       "<div>\n",
       "<style scoped>\n",
       "    .dataframe tbody tr th:only-of-type {\n",
       "        vertical-align: middle;\n",
       "    }\n",
       "\n",
       "    .dataframe tbody tr th {\n",
       "        vertical-align: top;\n",
       "    }\n",
       "\n",
       "    .dataframe thead th {\n",
       "        text-align: right;\n",
       "    }\n",
       "</style>\n",
       "<table border=\"1\" class=\"dataframe\">\n",
       "  <thead>\n",
       "    <tr style=\"text-align: right;\">\n",
       "      <th></th>\n",
       "      <th>Bootstrap_smaplesize</th>\n",
       "      <th>sample_size</th>\n",
       "      <th>P_val_actual</th>\n",
       "      <th>p_val_Bootstrap</th>\n",
       "      <th>diff</th>\n",
       "    </tr>\n",
       "  </thead>\n",
       "  <tbody>\n",
       "    <tr>\n",
       "      <th>0</th>\n",
       "      <td>10</td>\n",
       "      <td>1000</td>\n",
       "      <td>0.589872</td>\n",
       "      <td>0.367022</td>\n",
       "      <td>0.222849</td>\n",
       "    </tr>\n",
       "    <tr>\n",
       "      <th>1</th>\n",
       "      <td>20</td>\n",
       "      <td>1000</td>\n",
       "      <td>0.589872</td>\n",
       "      <td>0.311646</td>\n",
       "      <td>0.278226</td>\n",
       "    </tr>\n",
       "    <tr>\n",
       "      <th>2</th>\n",
       "      <td>30</td>\n",
       "      <td>1000</td>\n",
       "      <td>0.589872</td>\n",
       "      <td>0.266275</td>\n",
       "      <td>0.323597</td>\n",
       "    </tr>\n",
       "    <tr>\n",
       "      <th>3</th>\n",
       "      <td>50</td>\n",
       "      <td>1000</td>\n",
       "      <td>0.589872</td>\n",
       "      <td>0.221629</td>\n",
       "      <td>0.368243</td>\n",
       "    </tr>\n",
       "    <tr>\n",
       "      <th>4</th>\n",
       "      <td>100</td>\n",
       "      <td>1000</td>\n",
       "      <td>0.589872</td>\n",
       "      <td>0.180669</td>\n",
       "      <td>0.409203</td>\n",
       "    </tr>\n",
       "    <tr>\n",
       "      <th>5</th>\n",
       "      <td>200</td>\n",
       "      <td>1000</td>\n",
       "      <td>0.589872</td>\n",
       "      <td>0.150671</td>\n",
       "      <td>0.439200</td>\n",
       "    </tr>\n",
       "    <tr>\n",
       "      <th>6</th>\n",
       "      <td>300</td>\n",
       "      <td>1000</td>\n",
       "      <td>0.589872</td>\n",
       "      <td>0.129150</td>\n",
       "      <td>0.460722</td>\n",
       "    </tr>\n",
       "    <tr>\n",
       "      <th>7</th>\n",
       "      <td>500</td>\n",
       "      <td>1000</td>\n",
       "      <td>0.589872</td>\n",
       "      <td>0.113006</td>\n",
       "      <td>0.476866</td>\n",
       "    </tr>\n",
       "    <tr>\n",
       "      <th>8</th>\n",
       "      <td>600</td>\n",
       "      <td>1000</td>\n",
       "      <td>0.589872</td>\n",
       "      <td>0.100450</td>\n",
       "      <td>0.489422</td>\n",
       "    </tr>\n",
       "  </tbody>\n",
       "</table>\n",
       "</div>"
      ],
      "text/plain": [
       "   Bootstrap_smaplesize  sample_size  P_val_actual  p_val_Bootstrap      diff\n",
       "0                    10         1000      0.589872         0.367022  0.222849\n",
       "1                    20         1000      0.589872         0.311646  0.278226\n",
       "2                    30         1000      0.589872         0.266275  0.323597\n",
       "3                    50         1000      0.589872         0.221629  0.368243\n",
       "4                   100         1000      0.589872         0.180669  0.409203\n",
       "5                   200         1000      0.589872         0.150671  0.439200\n",
       "6                   300         1000      0.589872         0.129150  0.460722\n",
       "7                   500         1000      0.589872         0.113006  0.476866\n",
       "8                   600         1000      0.589872         0.100450  0.489422"
      ]
     },
     "execution_count": 11,
     "metadata": {},
     "output_type": "execute_result"
    }
   ],
   "source": [
    "## Convert to Dataframe for analysis\n",
    "d= {'Bootstrap_smaplesize':[10,20,30,50,100,200,300,500,600],'sample_size':np.repeat(1000,9).tolist(),'P_val_actual':np.repeat(p_val,9),'p_val_Bootstrap':list_new}\n",
    "df=pd.DataFrame(d)\n",
    "df['diff']= df['P_val_actual']-df['p_val_Bootstrap']\n",
    "df\n"
   ]
  },
  {
   "cell_type": "code",
   "execution_count": 13,
   "metadata": {},
   "outputs": [
    {
     "name": "stdout",
     "output_type": "stream",
     "text": [
      "C:\\Users\\Akhil Chelikani\\desktop\n"
     ]
    }
   ],
   "source": [
    "cd desktop"
   ]
  },
  {
   "cell_type": "markdown",
   "metadata": {},
   "source": [
    "question3"
   ]
  },
  {
   "cell_type": "code",
   "execution_count": 51,
   "metadata": {},
   "outputs": [],
   "source": [
    "import pandas as pd\n",
    "import numpy as np"
   ]
  },
  {
   "cell_type": "code",
   "execution_count": 52,
   "metadata": {},
   "outputs": [],
   "source": [
    "bitcoin= pd.read_csv('bitcoin.csv')"
   ]
  },
  {
   "cell_type": "code",
   "execution_count": 53,
   "metadata": {},
   "outputs": [],
   "source": [
    "btc=bitcoin[['Date','Close']]"
   ]
  },
  {
   "cell_type": "code",
   "execution_count": 54,
   "metadata": {},
   "outputs": [
    {
     "data": {
      "text/html": [
       "<div>\n",
       "<style scoped>\n",
       "    .dataframe tbody tr th:only-of-type {\n",
       "        vertical-align: middle;\n",
       "    }\n",
       "\n",
       "    .dataframe tbody tr th {\n",
       "        vertical-align: top;\n",
       "    }\n",
       "\n",
       "    .dataframe thead th {\n",
       "        text-align: right;\n",
       "    }\n",
       "</style>\n",
       "<table border=\"1\" class=\"dataframe\">\n",
       "  <thead>\n",
       "    <tr style=\"text-align: right;\">\n",
       "      <th></th>\n",
       "      <th>DATE</th>\n",
       "      <th>Close_btc</th>\n",
       "    </tr>\n",
       "  </thead>\n",
       "  <tbody>\n",
       "    <tr>\n",
       "      <th>0</th>\n",
       "      <td>2014-01-01</td>\n",
       "      <td>815.940002</td>\n",
       "    </tr>\n",
       "    <tr>\n",
       "      <th>1</th>\n",
       "      <td>2014-01-02</td>\n",
       "      <td>856.909973</td>\n",
       "    </tr>\n",
       "    <tr>\n",
       "      <th>2</th>\n",
       "      <td>2014-01-03</td>\n",
       "      <td>884.260010</td>\n",
       "    </tr>\n",
       "    <tr>\n",
       "      <th>3</th>\n",
       "      <td>2014-01-04</td>\n",
       "      <td>924.690002</td>\n",
       "    </tr>\n",
       "    <tr>\n",
       "      <th>4</th>\n",
       "      <td>2014-01-05</td>\n",
       "      <td>1014.739990</td>\n",
       "    </tr>\n",
       "  </tbody>\n",
       "</table>\n",
       "</div>"
      ],
      "text/plain": [
       "         DATE    Close_btc\n",
       "0  2014-01-01   815.940002\n",
       "1  2014-01-02   856.909973\n",
       "2  2014-01-03   884.260010\n",
       "3  2014-01-04   924.690002\n",
       "4  2014-01-05  1014.739990"
      ]
     },
     "execution_count": 54,
     "metadata": {},
     "output_type": "execute_result"
    }
   ],
   "source": [
    "btc.columns=['DATE','Close_btc']\n",
    "btc.head()"
   ]
  },
  {
   "cell_type": "code",
   "execution_count": 55,
   "metadata": {},
   "outputs": [
    {
     "data": {
      "text/html": [
       "<div>\n",
       "<style scoped>\n",
       "    .dataframe tbody tr th:only-of-type {\n",
       "        vertical-align: middle;\n",
       "    }\n",
       "\n",
       "    .dataframe tbody tr th {\n",
       "        vertical-align: top;\n",
       "    }\n",
       "\n",
       "    .dataframe thead th {\n",
       "        text-align: right;\n",
       "    }\n",
       "</style>\n",
       "<table border=\"1\" class=\"dataframe\">\n",
       "  <thead>\n",
       "    <tr style=\"text-align: right;\">\n",
       "      <th></th>\n",
       "      <th>DATE</th>\n",
       "      <th>SP500</th>\n",
       "    </tr>\n",
       "  </thead>\n",
       "  <tbody>\n",
       "    <tr>\n",
       "      <th>0</th>\n",
       "      <td>2014-01-02</td>\n",
       "      <td>1831.98</td>\n",
       "    </tr>\n",
       "    <tr>\n",
       "      <th>1</th>\n",
       "      <td>2014-01-03</td>\n",
       "      <td>1831.37</td>\n",
       "    </tr>\n",
       "    <tr>\n",
       "      <th>2</th>\n",
       "      <td>2014-01-06</td>\n",
       "      <td>1826.77</td>\n",
       "    </tr>\n",
       "    <tr>\n",
       "      <th>3</th>\n",
       "      <td>2014-01-07</td>\n",
       "      <td>1837.88</td>\n",
       "    </tr>\n",
       "    <tr>\n",
       "      <th>4</th>\n",
       "      <td>2014-01-08</td>\n",
       "      <td>1837.49</td>\n",
       "    </tr>\n",
       "  </tbody>\n",
       "</table>\n",
       "</div>"
      ],
      "text/plain": [
       "         DATE    SP500\n",
       "0  2014-01-02  1831.98\n",
       "1  2014-01-03  1831.37\n",
       "2  2014-01-06  1826.77\n",
       "3  2014-01-07  1837.88\n",
       "4  2014-01-08  1837.49"
      ]
     },
     "execution_count": 55,
     "metadata": {},
     "output_type": "execute_result"
    }
   ],
   "source": [
    "sp= pd.read_csv('SP500.csv')\n",
    "sp.head()"
   ]
  },
  {
   "cell_type": "code",
   "execution_count": 56,
   "metadata": {},
   "outputs": [
    {
     "data": {
      "text/html": [
       "<div>\n",
       "<style scoped>\n",
       "    .dataframe tbody tr th:only-of-type {\n",
       "        vertical-align: middle;\n",
       "    }\n",
       "\n",
       "    .dataframe tbody tr th {\n",
       "        vertical-align: top;\n",
       "    }\n",
       "\n",
       "    .dataframe thead th {\n",
       "        text-align: right;\n",
       "    }\n",
       "</style>\n",
       "<table border=\"1\" class=\"dataframe\">\n",
       "  <thead>\n",
       "    <tr style=\"text-align: right;\">\n",
       "      <th></th>\n",
       "      <th>DATE</th>\n",
       "      <th>GOLDAMGBD228NLBM</th>\n",
       "    </tr>\n",
       "  </thead>\n",
       "  <tbody>\n",
       "    <tr>\n",
       "      <th>0</th>\n",
       "      <td>2014-01-02</td>\n",
       "      <td>1219.75</td>\n",
       "    </tr>\n",
       "    <tr>\n",
       "      <th>1</th>\n",
       "      <td>2014-01-03</td>\n",
       "      <td>1232.25</td>\n",
       "    </tr>\n",
       "    <tr>\n",
       "      <th>2</th>\n",
       "      <td>2014-01-06</td>\n",
       "      <td>1238</td>\n",
       "    </tr>\n",
       "    <tr>\n",
       "      <th>3</th>\n",
       "      <td>2014-01-07</td>\n",
       "      <td>1237.5</td>\n",
       "    </tr>\n",
       "    <tr>\n",
       "      <th>4</th>\n",
       "      <td>2014-01-08</td>\n",
       "      <td>1226.5</td>\n",
       "    </tr>\n",
       "  </tbody>\n",
       "</table>\n",
       "</div>"
      ],
      "text/plain": [
       "         DATE GOLDAMGBD228NLBM\n",
       "0  2014-01-02          1219.75\n",
       "1  2014-01-03          1232.25\n",
       "2  2014-01-06             1238\n",
       "3  2014-01-07           1237.5\n",
       "4  2014-01-08           1226.5"
      ]
     },
     "execution_count": 56,
     "metadata": {},
     "output_type": "execute_result"
    }
   ],
   "source": [
    "lbp= pd.read_csv('GOLDAMGBD228NLBM.csv')\n",
    "lbp.head()"
   ]
  },
  {
   "cell_type": "code",
   "execution_count": 57,
   "metadata": {},
   "outputs": [
    {
     "data": {
      "text/html": [
       "<div>\n",
       "<style scoped>\n",
       "    .dataframe tbody tr th:only-of-type {\n",
       "        vertical-align: middle;\n",
       "    }\n",
       "\n",
       "    .dataframe tbody tr th {\n",
       "        vertical-align: top;\n",
       "    }\n",
       "\n",
       "    .dataframe thead th {\n",
       "        text-align: right;\n",
       "    }\n",
       "</style>\n",
       "<table border=\"1\" class=\"dataframe\">\n",
       "  <thead>\n",
       "    <tr style=\"text-align: right;\">\n",
       "      <th></th>\n",
       "      <th>DATE</th>\n",
       "      <th>DEXUSEU</th>\n",
       "    </tr>\n",
       "  </thead>\n",
       "  <tbody>\n",
       "    <tr>\n",
       "      <th>0</th>\n",
       "      <td>2014-01-02</td>\n",
       "      <td>1.367</td>\n",
       "    </tr>\n",
       "    <tr>\n",
       "      <th>1</th>\n",
       "      <td>2014-01-03</td>\n",
       "      <td>1.3606</td>\n",
       "    </tr>\n",
       "    <tr>\n",
       "      <th>2</th>\n",
       "      <td>2014-01-06</td>\n",
       "      <td>1.3636</td>\n",
       "    </tr>\n",
       "    <tr>\n",
       "      <th>3</th>\n",
       "      <td>2014-01-07</td>\n",
       "      <td>1.3618</td>\n",
       "    </tr>\n",
       "    <tr>\n",
       "      <th>4</th>\n",
       "      <td>2014-01-08</td>\n",
       "      <td>1.3586</td>\n",
       "    </tr>\n",
       "  </tbody>\n",
       "</table>\n",
       "</div>"
      ],
      "text/plain": [
       "         DATE DEXUSEU\n",
       "0  2014-01-02   1.367\n",
       "1  2014-01-03  1.3606\n",
       "2  2014-01-06  1.3636\n",
       "3  2014-01-07  1.3618\n",
       "4  2014-01-08  1.3586"
      ]
     },
     "execution_count": 57,
     "metadata": {},
     "output_type": "execute_result"
    }
   ],
   "source": [
    "uee= pd.read_csv('DEXUSEU.csv')\n",
    "uee.head()"
   ]
  },
  {
   "cell_type": "code",
   "execution_count": 58,
   "metadata": {},
   "outputs": [
    {
     "data": {
      "text/html": [
       "<div>\n",
       "<style scoped>\n",
       "    .dataframe tbody tr th:only-of-type {\n",
       "        vertical-align: middle;\n",
       "    }\n",
       "\n",
       "    .dataframe tbody tr th {\n",
       "        vertical-align: top;\n",
       "    }\n",
       "\n",
       "    .dataframe thead th {\n",
       "        text-align: right;\n",
       "    }\n",
       "</style>\n",
       "<table border=\"1\" class=\"dataframe\">\n",
       "  <thead>\n",
       "    <tr style=\"text-align: right;\">\n",
       "      <th></th>\n",
       "      <th>DATE</th>\n",
       "      <th>DCOILWTICO</th>\n",
       "    </tr>\n",
       "  </thead>\n",
       "  <tbody>\n",
       "    <tr>\n",
       "      <th>0</th>\n",
       "      <td>2014-01-02</td>\n",
       "      <td>95.14</td>\n",
       "    </tr>\n",
       "    <tr>\n",
       "      <th>1</th>\n",
       "      <td>2014-01-03</td>\n",
       "      <td>93.66</td>\n",
       "    </tr>\n",
       "    <tr>\n",
       "      <th>2</th>\n",
       "      <td>2014-01-06</td>\n",
       "      <td>93.12</td>\n",
       "    </tr>\n",
       "    <tr>\n",
       "      <th>3</th>\n",
       "      <td>2014-01-07</td>\n",
       "      <td>93.31</td>\n",
       "    </tr>\n",
       "    <tr>\n",
       "      <th>4</th>\n",
       "      <td>2014-01-08</td>\n",
       "      <td>91.9</td>\n",
       "    </tr>\n",
       "  </tbody>\n",
       "</table>\n",
       "</div>"
      ],
      "text/plain": [
       "         DATE DCOILWTICO\n",
       "0  2014-01-02      95.14\n",
       "1  2014-01-03      93.66\n",
       "2  2014-01-06      93.12\n",
       "3  2014-01-07      93.31\n",
       "4  2014-01-08       91.9"
      ]
     },
     "execution_count": 58,
     "metadata": {},
     "output_type": "execute_result"
    }
   ],
   "source": [
    "wto= pd.read_csv('DCOILWTICO.csv')\n",
    "wto.head()"
   ]
  },
  {
   "cell_type": "code",
   "execution_count": 59,
   "metadata": {},
   "outputs": [],
   "source": [
    "a=sp.merge(lbp,on='DATE')\n",
    "b=a.merge(uee,on='DATE')\n",
    "data=b.merge(wto,on='DATE')\n",
    "final_df= pd.merge(btc,data,on=['DATE'],how='inner')"
   ]
  },
  {
   "cell_type": "code",
   "execution_count": 60,
   "metadata": {},
   "outputs": [],
   "source": [
    "final_df.replace('.',np.nan,inplace=True)"
   ]
  },
  {
   "cell_type": "code",
   "execution_count": 61,
   "metadata": {},
   "outputs": [
    {
     "data": {
      "text/html": [
       "<div>\n",
       "<style scoped>\n",
       "    .dataframe tbody tr th:only-of-type {\n",
       "        vertical-align: middle;\n",
       "    }\n",
       "\n",
       "    .dataframe tbody tr th {\n",
       "        vertical-align: top;\n",
       "    }\n",
       "\n",
       "    .dataframe thead th {\n",
       "        text-align: right;\n",
       "    }\n",
       "</style>\n",
       "<table border=\"1\" class=\"dataframe\">\n",
       "  <thead>\n",
       "    <tr style=\"text-align: right;\">\n",
       "      <th></th>\n",
       "      <th>DATE</th>\n",
       "      <th>Close_btc</th>\n",
       "      <th>SP500</th>\n",
       "      <th>GOLDAMGBD228NLBM</th>\n",
       "      <th>DEXUSEU</th>\n",
       "      <th>DCOILWTICO</th>\n",
       "    </tr>\n",
       "  </thead>\n",
       "  <tbody>\n",
       "    <tr>\n",
       "      <th>0</th>\n",
       "      <td>2014-01-02</td>\n",
       "      <td>856.909973</td>\n",
       "      <td>1831.98</td>\n",
       "      <td>1219.75</td>\n",
       "      <td>1.367</td>\n",
       "      <td>95.14</td>\n",
       "    </tr>\n",
       "    <tr>\n",
       "      <th>1</th>\n",
       "      <td>2014-01-03</td>\n",
       "      <td>884.260010</td>\n",
       "      <td>1831.37</td>\n",
       "      <td>1232.25</td>\n",
       "      <td>1.3606</td>\n",
       "      <td>93.66</td>\n",
       "    </tr>\n",
       "    <tr>\n",
       "      <th>2</th>\n",
       "      <td>2014-01-06</td>\n",
       "      <td>1012.650024</td>\n",
       "      <td>1826.77</td>\n",
       "      <td>1238</td>\n",
       "      <td>1.3636</td>\n",
       "      <td>93.12</td>\n",
       "    </tr>\n",
       "    <tr>\n",
       "      <th>3</th>\n",
       "      <td>2014-01-07</td>\n",
       "      <td>879.900024</td>\n",
       "      <td>1837.88</td>\n",
       "      <td>1237.5</td>\n",
       "      <td>1.3618</td>\n",
       "      <td>93.31</td>\n",
       "    </tr>\n",
       "    <tr>\n",
       "      <th>4</th>\n",
       "      <td>2014-01-08</td>\n",
       "      <td>938.840027</td>\n",
       "      <td>1837.49</td>\n",
       "      <td>1226.5</td>\n",
       "      <td>1.3586</td>\n",
       "      <td>91.9</td>\n",
       "    </tr>\n",
       "    <tr>\n",
       "      <th>5</th>\n",
       "      <td>2014-01-09</td>\n",
       "      <td>936.950012</td>\n",
       "      <td>1838.13</td>\n",
       "      <td>1226</td>\n",
       "      <td>1.3591</td>\n",
       "      <td>91.36</td>\n",
       "    </tr>\n",
       "    <tr>\n",
       "      <th>6</th>\n",
       "      <td>2014-01-10</td>\n",
       "      <td>957.760010</td>\n",
       "      <td>1842.37</td>\n",
       "      <td>1232.25</td>\n",
       "      <td>1.3664</td>\n",
       "      <td>92.39</td>\n",
       "    </tr>\n",
       "    <tr>\n",
       "      <th>7</th>\n",
       "      <td>2014-01-13</td>\n",
       "      <td>922.909973</td>\n",
       "      <td>1819.2</td>\n",
       "      <td>1246</td>\n",
       "      <td>1.3647</td>\n",
       "      <td>91.45</td>\n",
       "    </tr>\n",
       "    <tr>\n",
       "      <th>8</th>\n",
       "      <td>2014-01-14</td>\n",
       "      <td>919.280029</td>\n",
       "      <td>1838.88</td>\n",
       "      <td>1248.75</td>\n",
       "      <td>1.3682</td>\n",
       "      <td>92.15</td>\n",
       "    </tr>\n",
       "    <tr>\n",
       "      <th>9</th>\n",
       "      <td>2014-01-15</td>\n",
       "      <td>941.219971</td>\n",
       "      <td>1848.38</td>\n",
       "      <td>1238</td>\n",
       "      <td>1.3604</td>\n",
       "      <td>93.78</td>\n",
       "    </tr>\n",
       "    <tr>\n",
       "      <th>10</th>\n",
       "      <td>2014-01-16</td>\n",
       "      <td>913.489990</td>\n",
       "      <td>1845.89</td>\n",
       "      <td>1237.25</td>\n",
       "      <td>1.36</td>\n",
       "      <td>93.54</td>\n",
       "    </tr>\n",
       "    <tr>\n",
       "      <th>11</th>\n",
       "      <td>2014-01-17</td>\n",
       "      <td>894.159973</td>\n",
       "      <td>1838.7</td>\n",
       "      <td>1241</td>\n",
       "      <td>1.3554</td>\n",
       "      <td>93.96</td>\n",
       "    </tr>\n",
       "    <tr>\n",
       "      <th>12</th>\n",
       "      <td>2014-01-20</td>\n",
       "      <td>955.950012</td>\n",
       "      <td>NaN</td>\n",
       "      <td>1254.75</td>\n",
       "      <td>NaN</td>\n",
       "      <td>NaN</td>\n",
       "    </tr>\n",
       "    <tr>\n",
       "      <th>13</th>\n",
       "      <td>2014-01-21</td>\n",
       "      <td>962.210022</td>\n",
       "      <td>1843.8</td>\n",
       "      <td>1247.75</td>\n",
       "      <td>1.356</td>\n",
       "      <td>94.51</td>\n",
       "    </tr>\n",
       "    <tr>\n",
       "      <th>14</th>\n",
       "      <td>2014-01-22</td>\n",
       "      <td>950.950012</td>\n",
       "      <td>1844.86</td>\n",
       "      <td>1239.5</td>\n",
       "      <td>1.3546</td>\n",
       "      <td>96.35</td>\n",
       "    </tr>\n",
       "    <tr>\n",
       "      <th>15</th>\n",
       "      <td>2014-01-23</td>\n",
       "      <td>944.159973</td>\n",
       "      <td>1828.46</td>\n",
       "      <td>1244.25</td>\n",
       "      <td>1.368</td>\n",
       "      <td>97.23</td>\n",
       "    </tr>\n",
       "    <tr>\n",
       "      <th>16</th>\n",
       "      <td>2014-01-24</td>\n",
       "      <td>916.549988</td>\n",
       "      <td>1790.29</td>\n",
       "      <td>1259.25</td>\n",
       "      <td>1.368</td>\n",
       "      <td>96.66</td>\n",
       "    </tr>\n",
       "    <tr>\n",
       "      <th>17</th>\n",
       "      <td>2014-01-27</td>\n",
       "      <td>943.539978</td>\n",
       "      <td>1781.56</td>\n",
       "      <td>1270</td>\n",
       "      <td>1.3679</td>\n",
       "      <td>95.82</td>\n",
       "    </tr>\n",
       "    <tr>\n",
       "      <th>18</th>\n",
       "      <td>2014-01-28</td>\n",
       "      <td>932.679993</td>\n",
       "      <td>1792.5</td>\n",
       "      <td>1253.5</td>\n",
       "      <td>1.3662</td>\n",
       "      <td>97.49</td>\n",
       "    </tr>\n",
       "    <tr>\n",
       "      <th>19</th>\n",
       "      <td>2014-01-29</td>\n",
       "      <td>925.669983</td>\n",
       "      <td>1774.2</td>\n",
       "      <td>1254.75</td>\n",
       "      <td>1.3663</td>\n",
       "      <td>97.34</td>\n",
       "    </tr>\n",
       "    <tr>\n",
       "      <th>20</th>\n",
       "      <td>2014-01-30</td>\n",
       "      <td>941.390015</td>\n",
       "      <td>1794.19</td>\n",
       "      <td>1254</td>\n",
       "      <td>1.3549</td>\n",
       "      <td>98.25</td>\n",
       "    </tr>\n",
       "    <tr>\n",
       "      <th>21</th>\n",
       "      <td>2014-01-31</td>\n",
       "      <td>938.849976</td>\n",
       "      <td>1782.59</td>\n",
       "      <td>1246.5</td>\n",
       "      <td>1.35</td>\n",
       "      <td>97.55</td>\n",
       "    </tr>\n",
       "    <tr>\n",
       "      <th>22</th>\n",
       "      <td>2014-02-03</td>\n",
       "      <td>931.710022</td>\n",
       "      <td>1741.89</td>\n",
       "      <td>1246.5</td>\n",
       "      <td>1.3523</td>\n",
       "      <td>96.44</td>\n",
       "    </tr>\n",
       "    <tr>\n",
       "      <th>23</th>\n",
       "      <td>2014-02-04</td>\n",
       "      <td>926.640015</td>\n",
       "      <td>1755.2</td>\n",
       "      <td>1253</td>\n",
       "      <td>1.3507</td>\n",
       "      <td>97.24</td>\n",
       "    </tr>\n",
       "    <tr>\n",
       "      <th>24</th>\n",
       "      <td>2014-02-05</td>\n",
       "      <td>904.520020</td>\n",
       "      <td>1751.64</td>\n",
       "      <td>1257</td>\n",
       "      <td>1.3519</td>\n",
       "      <td>97.4</td>\n",
       "    </tr>\n",
       "    <tr>\n",
       "      <th>25</th>\n",
       "      <td>2014-02-06</td>\n",
       "      <td>828.869995</td>\n",
       "      <td>1773.43</td>\n",
       "      <td>1258.5</td>\n",
       "      <td>1.3604</td>\n",
       "      <td>97.84</td>\n",
       "    </tr>\n",
       "    <tr>\n",
       "      <th>26</th>\n",
       "      <td>2014-02-07</td>\n",
       "      <td>695.650024</td>\n",
       "      <td>1797.02</td>\n",
       "      <td>1260</td>\n",
       "      <td>1.3614</td>\n",
       "      <td>99.98</td>\n",
       "    </tr>\n",
       "    <tr>\n",
       "      <th>27</th>\n",
       "      <td>2014-02-10</td>\n",
       "      <td>582.630005</td>\n",
       "      <td>1799.84</td>\n",
       "      <td>1273.5</td>\n",
       "      <td>1.3644</td>\n",
       "      <td>100.12</td>\n",
       "    </tr>\n",
       "    <tr>\n",
       "      <th>28</th>\n",
       "      <td>2014-02-11</td>\n",
       "      <td>578.960022</td>\n",
       "      <td>1819.75</td>\n",
       "      <td>1282.75</td>\n",
       "      <td>1.3654</td>\n",
       "      <td>99.96</td>\n",
       "    </tr>\n",
       "    <tr>\n",
       "      <th>29</th>\n",
       "      <td>2014-02-12</td>\n",
       "      <td>531.130005</td>\n",
       "      <td>1819.26</td>\n",
       "      <td>1286.5</td>\n",
       "      <td>1.3592</td>\n",
       "      <td>100.38</td>\n",
       "    </tr>\n",
       "    <tr>\n",
       "      <th>...</th>\n",
       "      <td>...</td>\n",
       "      <td>...</td>\n",
       "      <td>...</td>\n",
       "      <td>...</td>\n",
       "      <td>...</td>\n",
       "      <td>...</td>\n",
       "    </tr>\n",
       "    <tr>\n",
       "      <th>1333</th>\n",
       "      <td>2019-02-12</td>\n",
       "      <td>3617.409912</td>\n",
       "      <td>2744.73</td>\n",
       "      <td>1311.6</td>\n",
       "      <td>1.1316</td>\n",
       "      <td>53.14</td>\n",
       "    </tr>\n",
       "    <tr>\n",
       "      <th>1334</th>\n",
       "      <td>2019-02-13</td>\n",
       "      <td>3605.870117</td>\n",
       "      <td>2753.03</td>\n",
       "      <td>1311.15</td>\n",
       "      <td>1.1288</td>\n",
       "      <td>53.84</td>\n",
       "    </tr>\n",
       "    <tr>\n",
       "      <th>1335</th>\n",
       "      <td>2019-02-14</td>\n",
       "      <td>3588.719971</td>\n",
       "      <td>2745.73</td>\n",
       "      <td>1305.65</td>\n",
       "      <td>1.1284</td>\n",
       "      <td>54.4</td>\n",
       "    </tr>\n",
       "    <tr>\n",
       "      <th>1336</th>\n",
       "      <td>2019-02-15</td>\n",
       "      <td>3593.489990</td>\n",
       "      <td>2775.6</td>\n",
       "      <td>1318</td>\n",
       "      <td>1.1268</td>\n",
       "      <td>55.58</td>\n",
       "    </tr>\n",
       "    <tr>\n",
       "      <th>1337</th>\n",
       "      <td>2019-02-18</td>\n",
       "      <td>3912.570068</td>\n",
       "      <td>NaN</td>\n",
       "      <td>1323.95</td>\n",
       "      <td>NaN</td>\n",
       "      <td>NaN</td>\n",
       "    </tr>\n",
       "    <tr>\n",
       "      <th>1338</th>\n",
       "      <td>2019-02-19</td>\n",
       "      <td>3924.239990</td>\n",
       "      <td>2779.76</td>\n",
       "      <td>1329.55</td>\n",
       "      <td>1.1328</td>\n",
       "      <td>56.12</td>\n",
       "    </tr>\n",
       "    <tr>\n",
       "      <th>1339</th>\n",
       "      <td>2019-02-20</td>\n",
       "      <td>3974.050049</td>\n",
       "      <td>2784.7</td>\n",
       "      <td>1345.75</td>\n",
       "      <td>NaN</td>\n",
       "      <td>56.9</td>\n",
       "    </tr>\n",
       "    <tr>\n",
       "      <th>1340</th>\n",
       "      <td>2019-02-21</td>\n",
       "      <td>3937.040039</td>\n",
       "      <td>2774.88</td>\n",
       "      <td>1335.05</td>\n",
       "      <td>1.1338</td>\n",
       "      <td>56.95</td>\n",
       "    </tr>\n",
       "    <tr>\n",
       "      <th>1341</th>\n",
       "      <td>2019-02-22</td>\n",
       "      <td>3983.530029</td>\n",
       "      <td>2792.67</td>\n",
       "      <td>1322.25</td>\n",
       "      <td>1.1342</td>\n",
       "      <td>57.01</td>\n",
       "    </tr>\n",
       "    <tr>\n",
       "      <th>1342</th>\n",
       "      <td>2019-02-25</td>\n",
       "      <td>3845.510010</td>\n",
       "      <td>2796.11</td>\n",
       "      <td>1329.15</td>\n",
       "      <td>1.1345</td>\n",
       "      <td>55.32</td>\n",
       "    </tr>\n",
       "    <tr>\n",
       "      <th>1343</th>\n",
       "      <td>2019-02-26</td>\n",
       "      <td>3817.879883</td>\n",
       "      <td>2793.9</td>\n",
       "      <td>1327.55</td>\n",
       "      <td>1.1374</td>\n",
       "      <td>55.4</td>\n",
       "    </tr>\n",
       "    <tr>\n",
       "      <th>1344</th>\n",
       "      <td>2019-02-27</td>\n",
       "      <td>3830.719971</td>\n",
       "      <td>2792.38</td>\n",
       "      <td>1326.45</td>\n",
       "      <td>1.137</td>\n",
       "      <td>56.92</td>\n",
       "    </tr>\n",
       "    <tr>\n",
       "      <th>1345</th>\n",
       "      <td>2019-02-28</td>\n",
       "      <td>3823.370117</td>\n",
       "      <td>2784.49</td>\n",
       "      <td>1325.45</td>\n",
       "      <td>1.1379</td>\n",
       "      <td>57.21</td>\n",
       "    </tr>\n",
       "    <tr>\n",
       "      <th>1346</th>\n",
       "      <td>2019-03-01</td>\n",
       "      <td>3831.479980</td>\n",
       "      <td>2803.69</td>\n",
       "      <td>1309.95</td>\n",
       "      <td>1.1376</td>\n",
       "      <td>55.76</td>\n",
       "    </tr>\n",
       "    <tr>\n",
       "      <th>1347</th>\n",
       "      <td>2019-03-04</td>\n",
       "      <td>3731.280029</td>\n",
       "      <td>2792.81</td>\n",
       "      <td>1287.45</td>\n",
       "      <td>1.1328</td>\n",
       "      <td>56.6</td>\n",
       "    </tr>\n",
       "    <tr>\n",
       "      <th>1348</th>\n",
       "      <td>2019-03-05</td>\n",
       "      <td>3874.179932</td>\n",
       "      <td>2789.65</td>\n",
       "      <td>1285</td>\n",
       "      <td>1.13</td>\n",
       "      <td>56.55</td>\n",
       "    </tr>\n",
       "    <tr>\n",
       "      <th>1349</th>\n",
       "      <td>2019-03-06</td>\n",
       "      <td>3874.979980</td>\n",
       "      <td>2771.45</td>\n",
       "      <td>1285.55</td>\n",
       "      <td>1.132</td>\n",
       "      <td>56.22</td>\n",
       "    </tr>\n",
       "    <tr>\n",
       "      <th>1350</th>\n",
       "      <td>2019-03-07</td>\n",
       "      <td>3882.610107</td>\n",
       "      <td>2748.93</td>\n",
       "      <td>1286.4</td>\n",
       "      <td>1.1214</td>\n",
       "      <td>56.6</td>\n",
       "    </tr>\n",
       "    <tr>\n",
       "      <th>1351</th>\n",
       "      <td>2019-03-08</td>\n",
       "      <td>3868.020020</td>\n",
       "      <td>2743.07</td>\n",
       "      <td>1294.1</td>\n",
       "      <td>1.1243</td>\n",
       "      <td>55.77</td>\n",
       "    </tr>\n",
       "    <tr>\n",
       "      <th>1352</th>\n",
       "      <td>2019-03-11</td>\n",
       "      <td>3874.889893</td>\n",
       "      <td>2783.3</td>\n",
       "      <td>1296.35</td>\n",
       "      <td>1.1226</td>\n",
       "      <td>56.79</td>\n",
       "    </tr>\n",
       "    <tr>\n",
       "      <th>1353</th>\n",
       "      <td>2019-03-12</td>\n",
       "      <td>3888.570068</td>\n",
       "      <td>2791.52</td>\n",
       "      <td>1296.95</td>\n",
       "      <td>1.1276</td>\n",
       "      <td>56.89</td>\n",
       "    </tr>\n",
       "    <tr>\n",
       "      <th>1354</th>\n",
       "      <td>2019-03-13</td>\n",
       "      <td>3878.439941</td>\n",
       "      <td>2810.92</td>\n",
       "      <td>1308.4</td>\n",
       "      <td>1.131</td>\n",
       "      <td>58.27</td>\n",
       "    </tr>\n",
       "    <tr>\n",
       "      <th>1355</th>\n",
       "      <td>2019-03-14</td>\n",
       "      <td>3881.439941</td>\n",
       "      <td>2808.48</td>\n",
       "      <td>1299.2</td>\n",
       "      <td>1.1304</td>\n",
       "      <td>58.59</td>\n",
       "    </tr>\n",
       "    <tr>\n",
       "      <th>1356</th>\n",
       "      <td>2019-03-15</td>\n",
       "      <td>3927.080078</td>\n",
       "      <td>2822.48</td>\n",
       "      <td>1302.65</td>\n",
       "      <td>1.1326</td>\n",
       "      <td>58.51</td>\n",
       "    </tr>\n",
       "    <tr>\n",
       "      <th>1357</th>\n",
       "      <td>2019-03-18</td>\n",
       "      <td>3988.850098</td>\n",
       "      <td>2832.94</td>\n",
       "      <td>1305.35</td>\n",
       "      <td>1.1337</td>\n",
       "      <td>59.09</td>\n",
       "    </tr>\n",
       "    <tr>\n",
       "      <th>1358</th>\n",
       "      <td>2019-03-19</td>\n",
       "      <td>4024.139893</td>\n",
       "      <td>2832.57</td>\n",
       "      <td>1308.35</td>\n",
       "      <td>1.1346</td>\n",
       "      <td>59.12</td>\n",
       "    </tr>\n",
       "    <tr>\n",
       "      <th>1359</th>\n",
       "      <td>2019-03-20</td>\n",
       "      <td>4056.750000</td>\n",
       "      <td>2824.23</td>\n",
       "      <td>1303</td>\n",
       "      <td>1.1352</td>\n",
       "      <td>60.12</td>\n",
       "    </tr>\n",
       "    <tr>\n",
       "      <th>1360</th>\n",
       "      <td>2019-03-21</td>\n",
       "      <td>3996.929932</td>\n",
       "      <td>2854.88</td>\n",
       "      <td>1317.3</td>\n",
       "      <td>1.1361</td>\n",
       "      <td>59.98</td>\n",
       "    </tr>\n",
       "    <tr>\n",
       "      <th>1361</th>\n",
       "      <td>2019-03-22</td>\n",
       "      <td>4000.840088</td>\n",
       "      <td>2800.71</td>\n",
       "      <td>1311.1</td>\n",
       "      <td>1.1282</td>\n",
       "      <td>58.87</td>\n",
       "    </tr>\n",
       "    <tr>\n",
       "      <th>1362</th>\n",
       "      <td>2019-03-25</td>\n",
       "      <td>3924.550049</td>\n",
       "      <td>2798.36</td>\n",
       "      <td>1319.35</td>\n",
       "      <td>1.1324</td>\n",
       "      <td>58.71</td>\n",
       "    </tr>\n",
       "  </tbody>\n",
       "</table>\n",
       "<p>1363 rows × 6 columns</p>\n",
       "</div>"
      ],
      "text/plain": [
       "            DATE    Close_btc    SP500 GOLDAMGBD228NLBM DEXUSEU DCOILWTICO\n",
       "0     2014-01-02   856.909973  1831.98          1219.75   1.367      95.14\n",
       "1     2014-01-03   884.260010  1831.37          1232.25  1.3606      93.66\n",
       "2     2014-01-06  1012.650024  1826.77             1238  1.3636      93.12\n",
       "3     2014-01-07   879.900024  1837.88           1237.5  1.3618      93.31\n",
       "4     2014-01-08   938.840027  1837.49           1226.5  1.3586       91.9\n",
       "5     2014-01-09   936.950012  1838.13             1226  1.3591      91.36\n",
       "6     2014-01-10   957.760010  1842.37          1232.25  1.3664      92.39\n",
       "7     2014-01-13   922.909973   1819.2             1246  1.3647      91.45\n",
       "8     2014-01-14   919.280029  1838.88          1248.75  1.3682      92.15\n",
       "9     2014-01-15   941.219971  1848.38             1238  1.3604      93.78\n",
       "10    2014-01-16   913.489990  1845.89          1237.25    1.36      93.54\n",
       "11    2014-01-17   894.159973   1838.7             1241  1.3554      93.96\n",
       "12    2014-01-20   955.950012      NaN          1254.75     NaN        NaN\n",
       "13    2014-01-21   962.210022   1843.8          1247.75   1.356      94.51\n",
       "14    2014-01-22   950.950012  1844.86           1239.5  1.3546      96.35\n",
       "15    2014-01-23   944.159973  1828.46          1244.25   1.368      97.23\n",
       "16    2014-01-24   916.549988  1790.29          1259.25   1.368      96.66\n",
       "17    2014-01-27   943.539978  1781.56             1270  1.3679      95.82\n",
       "18    2014-01-28   932.679993   1792.5           1253.5  1.3662      97.49\n",
       "19    2014-01-29   925.669983   1774.2          1254.75  1.3663      97.34\n",
       "20    2014-01-30   941.390015  1794.19             1254  1.3549      98.25\n",
       "21    2014-01-31   938.849976  1782.59           1246.5    1.35      97.55\n",
       "22    2014-02-03   931.710022  1741.89           1246.5  1.3523      96.44\n",
       "23    2014-02-04   926.640015   1755.2             1253  1.3507      97.24\n",
       "24    2014-02-05   904.520020  1751.64             1257  1.3519       97.4\n",
       "25    2014-02-06   828.869995  1773.43           1258.5  1.3604      97.84\n",
       "26    2014-02-07   695.650024  1797.02             1260  1.3614      99.98\n",
       "27    2014-02-10   582.630005  1799.84           1273.5  1.3644     100.12\n",
       "28    2014-02-11   578.960022  1819.75          1282.75  1.3654      99.96\n",
       "29    2014-02-12   531.130005  1819.26           1286.5  1.3592     100.38\n",
       "...          ...          ...      ...              ...     ...        ...\n",
       "1333  2019-02-12  3617.409912  2744.73           1311.6  1.1316      53.14\n",
       "1334  2019-02-13  3605.870117  2753.03          1311.15  1.1288      53.84\n",
       "1335  2019-02-14  3588.719971  2745.73          1305.65  1.1284       54.4\n",
       "1336  2019-02-15  3593.489990   2775.6             1318  1.1268      55.58\n",
       "1337  2019-02-18  3912.570068      NaN          1323.95     NaN        NaN\n",
       "1338  2019-02-19  3924.239990  2779.76          1329.55  1.1328      56.12\n",
       "1339  2019-02-20  3974.050049   2784.7          1345.75     NaN       56.9\n",
       "1340  2019-02-21  3937.040039  2774.88          1335.05  1.1338      56.95\n",
       "1341  2019-02-22  3983.530029  2792.67          1322.25  1.1342      57.01\n",
       "1342  2019-02-25  3845.510010  2796.11          1329.15  1.1345      55.32\n",
       "1343  2019-02-26  3817.879883   2793.9          1327.55  1.1374       55.4\n",
       "1344  2019-02-27  3830.719971  2792.38          1326.45   1.137      56.92\n",
       "1345  2019-02-28  3823.370117  2784.49          1325.45  1.1379      57.21\n",
       "1346  2019-03-01  3831.479980  2803.69          1309.95  1.1376      55.76\n",
       "1347  2019-03-04  3731.280029  2792.81          1287.45  1.1328       56.6\n",
       "1348  2019-03-05  3874.179932  2789.65             1285    1.13      56.55\n",
       "1349  2019-03-06  3874.979980  2771.45          1285.55   1.132      56.22\n",
       "1350  2019-03-07  3882.610107  2748.93           1286.4  1.1214       56.6\n",
       "1351  2019-03-08  3868.020020  2743.07           1294.1  1.1243      55.77\n",
       "1352  2019-03-11  3874.889893   2783.3          1296.35  1.1226      56.79\n",
       "1353  2019-03-12  3888.570068  2791.52          1296.95  1.1276      56.89\n",
       "1354  2019-03-13  3878.439941  2810.92           1308.4   1.131      58.27\n",
       "1355  2019-03-14  3881.439941  2808.48           1299.2  1.1304      58.59\n",
       "1356  2019-03-15  3927.080078  2822.48          1302.65  1.1326      58.51\n",
       "1357  2019-03-18  3988.850098  2832.94          1305.35  1.1337      59.09\n",
       "1358  2019-03-19  4024.139893  2832.57          1308.35  1.1346      59.12\n",
       "1359  2019-03-20  4056.750000  2824.23             1303  1.1352      60.12\n",
       "1360  2019-03-21  3996.929932  2854.88           1317.3  1.1361      59.98\n",
       "1361  2019-03-22  4000.840088  2800.71           1311.1  1.1282      58.87\n",
       "1362  2019-03-25  3924.550049  2798.36          1319.35  1.1324      58.71\n",
       "\n",
       "[1363 rows x 6 columns]"
      ]
     },
     "execution_count": 61,
     "metadata": {},
     "output_type": "execute_result"
    }
   ],
   "source": [
    "final_df"
   ]
  },
  {
   "cell_type": "code",
   "execution_count": 62,
   "metadata": {},
   "outputs": [
    {
     "name": "stdout",
     "output_type": "stream",
     "text": [
      "<class 'pandas.core.frame.DataFrame'>\n",
      "Int64Index: 1363 entries, 0 to 1362\n",
      "Data columns (total 6 columns):\n",
      "DATE                1363 non-null object\n",
      "Close_btc           1363 non-null float64\n",
      "SP500               1315 non-null object\n",
      "GOLDAMGBD228NLBM    1322 non-null object\n",
      "DEXUSEU             1305 non-null object\n",
      "DCOILWTICO          1312 non-null object\n",
      "dtypes: float64(1), object(5)\n",
      "memory usage: 74.5+ KB\n"
     ]
    }
   ],
   "source": [
    "final_df.info()"
   ]
  },
  {
   "cell_type": "code",
   "execution_count": 63,
   "metadata": {},
   "outputs": [],
   "source": [
    "for item in ['Close_btc','SP500','GOLDAMGBD228NLBM','DEXUSEU','DCOILWTICO']:\n",
    "    final_df[item]=final_df[item].astype(float)"
   ]
  },
  {
   "cell_type": "code",
   "execution_count": 64,
   "metadata": {},
   "outputs": [],
   "source": [
    "final_df['DATE'] = pd.to_datetime(final_df['DATE'])"
   ]
  },
  {
   "cell_type": "code",
   "execution_count": 65,
   "metadata": {},
   "outputs": [
    {
     "name": "stdout",
     "output_type": "stream",
     "text": [
      "<class 'pandas.core.frame.DataFrame'>\n",
      "Int64Index: 1277 entries, 0 to 1362\n",
      "Data columns (total 6 columns):\n",
      "DATE                1277 non-null datetime64[ns]\n",
      "Close_btc           1277 non-null float64\n",
      "SP500               1277 non-null float64\n",
      "GOLDAMGBD228NLBM    1277 non-null float64\n",
      "DEXUSEU             1277 non-null float64\n",
      "DCOILWTICO          1277 non-null float64\n",
      "dtypes: datetime64[ns](1), float64(5)\n",
      "memory usage: 69.8 KB\n"
     ]
    }
   ],
   "source": [
    "final_df.dropna(axis=0,how='any',inplace=True)\n",
    "final_df.info()"
   ]
  },
  {
   "cell_type": "code",
   "execution_count": 66,
   "metadata": {},
   "outputs": [
    {
     "data": {
      "text/plain": [
       "<matplotlib.legend.Legend at 0x2764f573080>"
      ]
     },
     "execution_count": 66,
     "metadata": {},
     "output_type": "execute_result"
    },
    {
     "data": {
      "image/png": "[encoded data removed]",
      "text/plain": [
       "<Figure size 720x360 with 1 Axes>"
      ]
     },
     "metadata": {
      "needs_background": "light"
     },
     "output_type": "display_data"
    }
   ],
   "source": [
    "#plotting each series\n",
    "import matplotlib.pyplot as plt\n",
    "plt.figure(figsize=(10,5))\n",
    "for i in range(1,6):\n",
    "    x= np.array(final_df['DATE'])\n",
    "    y= np.array(final_df.iloc[:,i])\n",
    "    plt.plot(x,y,label=final_df.columns[i])\n",
    "plt.legend()"
   ]
  },
  {
   "cell_type": "code",
   "execution_count": 67,
   "metadata": {},
   "outputs": [
    {
     "data": {
      "text/plain": [
       "<Figure size 360x360 with 0 Axes>"
      ]
     },
     "metadata": {},
     "output_type": "display_data"
    },
    {
     "data": {
      "image/png": "[encoded data removed]",
      "text/plain": [
       "<Figure size 1440x360 with 1 Axes>"
      ]
     },
     "metadata": {
      "needs_background": "light"
     },
     "output_type": "display_data"
    },
    {
     "data": {
      "image/png": "[encoded data removed]",
      "text/plain": [
       "<Figure size 1440x360 with 1 Axes>"
      ]
     },
     "metadata": {
      "needs_background": "light"
     },
     "output_type": "display_data"
    },
    {
     "data": {
      "image/png": "[encoded data removed]",
      "text/plain": [
       "<Figure size 1440x360 with 1 Axes>"
      ]
     },
     "metadata": {
      "needs_background": "light"
     },
     "output_type": "display_data"
    },
    {
     "data": {
      "image/png": "[encoded data removed]",
      "text/plain": [
       "<Figure size 1440x360 with 1 Axes>"
      ]
     },
     "metadata": {
      "needs_background": "light"
     },
     "output_type": "display_data"
    },
    {
     "data": {
      "image/png": "[encoded data removed]",
      "text/plain": [
       "<Figure size 1440x360 with 1 Axes>"
      ]
     },
     "metadata": {
      "needs_background": "light"
     },
     "output_type": "display_data"
    }
   ],
   "source": [
    "#lag plots to see for autocorrelation\n",
    "from pandas import Series\n",
    "from pandas.plotting import lag_plot\n",
    "plt.figure(figsize=(5,5))\n",
    "for i in range(1,6):\n",
    "    plt.figure(figsize=(20,5))\n",
    "    plt.subplot(1,5,i)\n",
    "    lag_plot(final_df.iloc[:,i],label=final_df.columns[i])\n",
    "    plt.legend()\n",
    "plt.tight_layout()\n",
    "plt.show()"
   ]
  },
  {
   "cell_type": "code",
   "execution_count": 68,
   "metadata": {},
   "outputs": [
    {
     "data": {
      "text/plain": [
       "array([ 9.88456693e+00, -3.06495730e+00,  2.37831639e+04, -6.15950627e+01])"
      ]
     },
     "execution_count": 68,
     "metadata": {},
     "output_type": "execute_result"
    }
   ],
   "source": [
    "#running a linear regression regression using close_btc as the as the target variables and the other series as the explanatory varaibles\n",
    "from sklearn.linear_model import LinearRegression\n",
    "lr= LinearRegression(fit_intercept=True)\n",
    "lr.fit(final_df.drop(['Close_btc','DATE'],axis=1),final_df['Close_btc'])\n",
    "lr.coef_"
   ]
  },
  {
   "cell_type": "code",
   "execution_count": 69,
   "metadata": {},
   "outputs": [
    {
     "name": "stdout",
     "output_type": "stream",
     "text": [
      "1\n"
     ]
    }
   ],
   "source": [
    "#kpss test to figure out weather the series are satioanry at differnt value for lags\n",
    "import statsmodels.api as sm\n",
    "import statsmodels.tsa.stattools as st\n",
    "import patsy as pt\n",
    "import warnings\n",
    "x =[]\n",
    "warnings.filterwarnings(\"ignore\")\n",
    "series = final_df['Close_btc'].copy()\n",
    "for i in range(0,1000):\n",
    "    new=st.kpss(series, regression='c')\n",
    "    if new[1]>0.05:\n",
    "        break\n",
    "        x.append(i)\n",
    "    series = series.diff()[1:]\n",
    "print(i)\n",
    "        "
   ]
  },
  {
   "cell_type": "code",
   "execution_count": 70,
   "metadata": {},
   "outputs": [
    {
     "name": "stdout",
     "output_type": "stream",
     "text": [
      "1\n"
     ]
    }
   ],
   "source": [
    "import statsmodels.api as sm\n",
    "import statsmodels.tsa.stattools as st\n",
    "import patsy as pt\n",
    "import warnings\n",
    "x =[]\n",
    "warnings.filterwarnings(\"ignore\")\n",
    "series = final_df['SP500'].copy()\n",
    "for i in range(0,1000):\n",
    "    new=st.kpss(series, regression='c')\n",
    "    if new[1]>0.05:\n",
    "        break\n",
    "        x.append(i)\n",
    "    series = series.diff()[1:]\n",
    "print(i)"
   ]
  },
  {
   "cell_type": "code",
   "execution_count": 71,
   "metadata": {},
   "outputs": [
    {
     "name": "stdout",
     "output_type": "stream",
     "text": [
      "1\n"
     ]
    }
   ],
   "source": [
    "import statsmodels.api as sm\n",
    "import statsmodels.tsa.stattools as st\n",
    "import patsy as pt\n",
    "import warnings\n",
    "x =[]\n",
    "warnings.filterwarnings(\"ignore\")\n",
    "series = final_df['GOLDAMGBD228NLBM'].copy()\n",
    "for i in range(0,1000):\n",
    "    new=st.kpss(series, regression='c')\n",
    "    if new[1]>0.05:\n",
    "        break\n",
    "        x.append(i)\n",
    "    series = series.diff()[1:]\n",
    "print(i)"
   ]
  },
  {
   "cell_type": "code",
   "execution_count": 72,
   "metadata": {},
   "outputs": [
    {
     "name": "stdout",
     "output_type": "stream",
     "text": [
      "1\n"
     ]
    }
   ],
   "source": [
    "import statsmodels.api as sm\n",
    "import statsmodels.tsa.stattools as st\n",
    "import patsy as pt\n",
    "import warnings\n",
    "x =[]\n",
    "warnings.filterwarnings(\"ignore\")\n",
    "series = final_df['DEXUSEU'].copy()\n",
    "for i in range(0,1000):\n",
    "    new=st.kpss(series, regression='c')\n",
    "    if new[1]>0.05:\n",
    "        break\n",
    "        x.append(i)\n",
    "    series = series.diff()[1:]\n",
    "print(i)"
   ]
  },
  {
   "cell_type": "code",
   "execution_count": 73,
   "metadata": {},
   "outputs": [
    {
     "name": "stdout",
     "output_type": "stream",
     "text": [
      "1\n"
     ]
    }
   ],
   "source": [
    "import statsmodels.api as sm\n",
    "import statsmodels.tsa.stattools as st\n",
    "import patsy as pt\n",
    "import warnings\n",
    "x =[]\n",
    "warnings.filterwarnings(\"ignore\")\n",
    "series = final_df['DCOILWTICO'].copy()\n",
    "for i in range(0,1000):\n",
    "    new=st.kpss(series, regression='c')\n",
    "    if new[1]>0.05:\n",
    "        break\n",
    "        x.append(i)\n",
    "    series = series.diff()[1:]\n",
    "print(i)"
   ]
  },
  {
   "cell_type": "code",
   "execution_count": 74,
   "metadata": {},
   "outputs": [],
   "source": [
    "#linear regression after differencing\n",
    "series_bitcoin= final_df['Close_btc'].copy()\n",
    "series_bitcoin= series_bitcoin.diff()[1:]\n",
    "series_SP500= final_df['SP500'].copy()\n",
    "series_SP500= series_SP500.diff()[1:]\n",
    "series_GOLDAMGBD228NLBM= final_df['GOLDAMGBD228NLBM'].copy()\n",
    "series_GOLDAMGBD228NLBM= series_GOLDAMGBD228NLBM.diff()[1:]\n",
    "series_DEXUSEU= final_df['DEXUSEU'].copy()\n",
    "series_DEXUSEU= series_DEXUSEU.diff()[1:]\n",
    "series_DCOILWTICO= final_df['DCOILWTICO'].copy()\n",
    "series_DCOILWTICO= series_DCOILWTICO.diff()[1:]\n",
    "x=pd.DataFrame({'SP500':series_SP500,'GOLDAMGBD228NLBM':series_GOLDAMGBD228NLBM,'DEXUSEU':series_DEXUSEU,'DCOILWTICO':series_DCOILWTICO})\n",
    "y=pd.DataFrame({'target':series_bitcoin})"
   ]
  },
  {
   "cell_type": "code",
   "execution_count": 75,
   "metadata": {},
   "outputs": [
    {
     "data": {
      "text/plain": [
       "array([[   0.93451181,    0.83885996, -484.85227228,   -4.52666238]])"
      ]
     },
     "execution_count": 75,
     "metadata": {},
     "output_type": "execute_result"
    }
   ],
   "source": [
    "#linear regression after differencing\n",
    "lr= LinearRegression(fit_intercept=True)\n",
    "lr.fit(x,y)\n",
    "lr.coef_"
   ]
  },
  {
   "cell_type": "code",
   "execution_count": 111,
   "metadata": {},
   "outputs": [
    {
     "data": {
      "image/png": "[encoded data removed]",
      "text/plain": [
       "<Figure size 432x288 with 1 Axes>"
      ]
     },
     "metadata": {
      "needs_background": "light"
     },
     "output_type": "display_data"
    }
   ],
   "source": [
    "#acf plot\n",
    "from pandas import Series\n",
    "from statsmodels.graphics.tsaplots import plot_acf\n",
    "from statsmodels.graphics.tsaplots import plot_pacf\n",
    "from matplotlib import pyplot\n",
    "\n",
    "price = btc_after_2017.iloc[:,-1].values\n",
    "date = btc_after_2017.iloc[:,0].values\n",
    "plot_acf(price, ax=pyplot.gca())\n",
    "pyplot.show()"
   ]
  },
  {
   "cell_type": "code",
   "execution_count": 112,
   "metadata": {},
   "outputs": [
    {
     "data": {
      "image/png": "[encoded data removed]",
      "text/plain": [
       "<Figure size 432x288 with 1 Axes>"
      ]
     },
     "metadata": {
      "needs_background": "light"
     },
     "output_type": "display_data"
    }
   ],
   "source": [
    "#pacf plot\n",
    "plot_pacf(price, ax=pyplot.gca())\n",
    "pyplot.show()"
   ]
  },
  {
   "cell_type": "code",
   "execution_count": 113,
   "metadata": {},
   "outputs": [
    {
     "name": "stdout",
     "output_type": "stream",
     "text": [
      "ARIMA(callback=None, disp=0, maxiter=50, method=None, order=(5, 1, 4),\n",
      "   out_of_sample_size=0, scoring='mse', scoring_args={},\n",
      "   seasonal_order=None, solver='lbfgs', start_params=None,\n",
      "   suppress_warnings=False, transparams=True, trend='c')\n"
     ]
    }
   ],
   "source": [
    "#auto arima to determine the best arima model\n",
    "import pyramid\n",
    "from pyramid.arima import auto_arima\n",
    "stepwise_model = auto_arima(btc_after_2017.iloc[:,1], seasonal=False,d=1,stepwise=False,ic='aic')\n",
    "print(stepwise_model)\n"
   ]
  },
  {
   "cell_type": "code",
   "execution_count": 122,
   "metadata": {},
   "outputs": [
    {
     "name": "stdout",
     "output_type": "stream",
     "text": [
      "                             ARIMA Model Results                              \n",
      "==============================================================================\n",
      "Dep. Variable:            D.Close_btc   No. Observations:                  815\n",
      "Model:                 ARIMA(5, 1, 4)   Log Likelihood               -5928.944\n",
      "Method:                       css-mle   S.D. of innovations            348.935\n",
      "Date:                Wed, 10 Apr 2019   AIC                          11879.888\n",
      "Time:                        22:53:45   BIC                          11931.623\n",
      "Sample:                             1   HQIC                         11899.745\n",
      "                                                                              \n",
      "=====================================================================================\n",
      "                        coef    std err          z      P>|z|      [0.025      0.975]\n",
      "-------------------------------------------------------------------------------------\n",
      "const                 4.2930     13.641      0.315      0.753     -22.443      31.030\n",
      "ar.L1.D.Close_btc     0.2783      0.069      4.025      0.000       0.143       0.414\n",
      "ar.L2.D.Close_btc     0.7155      0.060     11.892      0.000       0.598       0.833\n",
      "ar.L3.D.Close_btc    -0.1048      0.058     -1.814      0.070      -0.218       0.008\n",
      "ar.L4.D.Close_btc    -0.8104      0.047    -17.225      0.000      -0.903      -0.718\n",
      "ar.L5.D.Close_btc     0.1825      0.038      4.764      0.000       0.107       0.258\n",
      "ma.L1.D.Close_btc    -0.2254      0.063     -3.554      0.000      -0.350      -0.101\n",
      "ma.L2.D.Close_btc    -0.7986      0.073    -10.928      0.000      -0.942      -0.655\n",
      "ma.L3.D.Close_btc     0.0715      0.063      1.139      0.255      -0.052       0.195\n",
      "ma.L4.D.Close_btc     0.7776      0.056     13.953      0.000       0.668       0.887\n",
      "                                    Roots                                    \n",
      "=============================================================================\n",
      "                  Real          Imaginary           Modulus         Frequency\n",
      "-----------------------------------------------------------------------------\n",
      "AR.1           -0.8688           -0.5990j            1.0553           -0.4039\n",
      "AR.2           -0.8688           +0.5990j            1.0553            0.4039\n",
      "AR.3            0.9076           -0.5514j            1.0620           -0.0869\n",
      "AR.4            0.9076           +0.5514j            1.0620            0.0869\n",
      "AR.5            4.3640           -0.0000j            4.3640           -0.0000\n",
      "MA.1            0.8863           -0.4951j            1.0152           -0.0811\n",
      "MA.2            0.8863           +0.4951j            1.0152            0.0811\n",
      "MA.3           -0.9323           -0.6152j            1.1170           -0.4072\n",
      "MA.4           -0.9323           +0.6152j            1.1170            0.4072\n",
      "-----------------------------------------------------------------------------\n"
     ]
    }
   ],
   "source": [
    "# using the best arima model to fit our series\n",
    "from statsmodels.tsa.arima_model import ARIMA\n",
    "model = ARIMA(btc_after_2017.iloc[:,1], order=(5,1,4))\n",
    "model_fit = model.fit(disp=0)\n",
    "print(model_fit.summary())"
   ]
  },
  {
   "cell_type": "code",
   "execution_count": 115,
   "metadata": {},
   "outputs": [],
   "source": [
    "prediction = model_fit.forecast(30)[0]"
   ]
  },
  {
   "cell_type": "code",
   "execution_count": 116,
   "metadata": {},
   "outputs": [
    {
     "data": {
      "text/plain": [
       "array([4590.98421944, 4494.54676003, 4412.40718213, 4297.60596397,\n",
       "       4343.81087871, 4363.4926369 , 4466.20491843, 4585.24786926,\n",
       "       4634.58956977, 4718.38480958, 4688.05921043, 4659.84637775,\n",
       "       4606.41955355, 4518.8115137 , 4502.19587074, 4460.98961458,\n",
       "       4488.13680705, 4532.37027099, 4569.07676682, 4641.62978691,\n",
       "       4657.10347193, 4681.75427063, 4673.577966  , 4638.39238645,\n",
       "       4624.03625279, 4581.74118246, 4577.68222833, 4577.98896878,\n",
       "       4587.98986721, 4626.24613117])"
      ]
     },
     "execution_count": 116,
     "metadata": {},
     "output_type": "execute_result"
    }
   ],
   "source": [
    "prediction"
   ]
  },
  {
   "cell_type": "code",
   "execution_count": 117,
   "metadata": {},
   "outputs": [
    {
     "data": {
      "text/plain": [
       "Text(0, 0.5, 'bitcoin closing price')"
      ]
     },
     "execution_count": 117,
     "metadata": {},
     "output_type": "execute_result"
    },
    {
     "data": {
      "image/png": "[encoded data removed]",
      "text/plain": [
       "<Figure size 1080x360 with 1 Axes>"
      ]
     },
     "metadata": {
      "needs_background": "light"
     },
     "output_type": "display_data"
    }
   ],
   "source": [
    "plt.figure(figsize=(15,5))\n",
    "x=np.array(btc_after_2017['DATE'])\n",
    "plt.plot(np.arange(0,816),np.array(btc_after_2017.iloc[:,1]),'b')\n",
    "plt.plot(np.arange(817,847),prediction,'r')\n",
    "plt.xlabel('days')\n",
    "plt.ylabel('bitcoin closing price')"
   ]
  },
  {
   "cell_type": "code",
   "execution_count": 118,
   "metadata": {},
   "outputs": [],
   "source": [
    "from scipy import signal\n",
    "import matplotlib.pyplot as plt"
   ]
  },
  {
   "cell_type": "code",
   "execution_count": 119,
   "metadata": {},
   "outputs": [
    {
     "data": {
      "text/plain": [
       "[<matplotlib.lines.Line2D at 0x2765393c550>]"
      ]
     },
     "execution_count": 119,
     "metadata": {},
     "output_type": "execute_result"
    },
    {
     "data": {
      "image/png": "[encoded data removed]",
      "text/plain": [
       "<Figure size 432x288 with 1 Axes>"
      ]
     },
     "metadata": {
      "needs_background": "light"
     },
     "output_type": "display_data"
    }
   ],
   "source": [
    "# as we can see from the periodgram, there are no considerble spikes which sugest there is no seasonality in the data\n",
    "plt.figure()\n",
    "f, Pxx_den = signal.periodogram(btc_after_2017.iloc[:,1], fs=1)\n",
    "plt.semilogy(f, Pxx_den)"
   ]
  },
  {
   "cell_type": "code",
   "execution_count": null,
   "metadata": {},
   "outputs": [],
   "source": [
    "#fit the model\n",
    "from statsmodels.tsa.vector_ar.var_model import VAR\n",
    "\n",
    "model = VAR()\n",
    "model_fit = model.fit()\n",
    "\n",
    "# make prediction on validation\n",
    "prediction = model_fit.forecast(model_fit.y, steps=len(valid))"
   ]
  },
  {
   "cell_type": "code",
   "execution_count": null,
   "metadata": {},
   "outputs": [],
   "source": []
  }
 ],
 "metadata": {
  "kernelspec": {
   "display_name": "Python 3",
   "language": "python",
   "name": "python3"
  },
  "language_info": {
   "codemirror_mode": {
    "name": "ipython",
    "version": 3
   },
   "file_extension": ".py",
   "mimetype": "text/x-python",
   "name": "python",
   "nbconvert_exporter": "python",
   "pygments_lexer": "ipython3",
   "version": "3.6.8"
  }
 },
 "nbformat": 4,
 "nbformat_minor": 2
}
